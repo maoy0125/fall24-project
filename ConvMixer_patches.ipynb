{
 "cells": [
  {
   "cell_type": "markdown",
   "id": "c48aff08",
   "metadata": {
    "scrolled": true
   },
   "source": [
    "##  Part 1: Setup"
   ]
  },
  {
   "cell_type": "markdown",
   "id": "236cef19",
   "metadata": {},
   "source": [
    "The first step is to setup up the required modules. We imported tensorflow_datasets to train on ImageNet-1k.You can run the following code in the bash:\n",
    "\n",
    "```bash\n",
    "pip install tensorflow_datasets\n"
   ]
  },
  {
   "cell_type": "code",
   "execution_count": 1,
   "id": "3ed714b3",
   "metadata": {},
   "outputs": [
    {
     "name": "stdout",
     "output_type": "stream",
     "text": [
      "Using GPU(0): PhysicalDevice(name='/physical_device:GPU:0', device_type='GPU')\n",
      "2.4.0\n"
     ]
    }
   ],
   "source": [
    "# Import modules\n",
    "from __future__ import print_function\n",
    "import tensorflow as tf\n",
    "\n",
    "physical_devices = tf.config.experimental.list_physical_devices('GPU')\n",
    "if len(physical_devices) > 0:\n",
    "    print('Using GPU(0):', physical_devices[0])\n",
    "    tf.config.experimental.set_memory_growth(physical_devices[0], enable=True)\n",
    "else:\n",
    "    print('Using CPU')\n",
    "\n",
    "import numpy as np\n",
    "from numpy.random import shuffle\n",
    "import time\n",
    "import matplotlib.pyplot as plt\n",
    "\n",
    "# Plot configurations\n",
    "%matplotlib inline\n",
    "\n",
    "# Notebook auto reload code. (Ref: http://stackoverflow.com/questions/1907993/autoreload-of-modules-in-ipython)\n",
    "%load_ext autoreload\n",
    "%autoreload 2\n",
    "print(tf.__version__)"
   ]
  },
  {
   "cell_type": "markdown",
   "id": "b1677fea",
   "metadata": {},
   "source": [
    "##  Part 2: Load and Preprocess ImageNet-1k"
   ]
  },
  {
   "cell_type": "code",
   "execution_count": 2,
   "id": "359299db",
   "metadata": {},
   "outputs": [],
   "source": [
    "import tensorflow as tf\n",
    "import os\n",
    "import shutil\n",
    "\n",
    "data_dir = \"tiny-imagenet-10\"  # Folder name after extraction\n",
    "\n",
    "# Get the list of all class directories in the training set\n",
    "train_dir = os.path.join(data_dir, 'train')\n",
    "val_dir = os.path.join(data_dir, 'val')"
   ]
  },
  {
   "cell_type": "code",
   "execution_count": 4,
   "id": "fc0d8897",
   "metadata": {},
   "outputs": [
    {
     "name": "stdout",
     "output_type": "stream",
     "text": [
      "Found 5000 files belonging to 10 classes.\n"
     ]
    }
   ],
   "source": [
    "import shutil\n",
    "\n",
    "# Define preprocessing\n",
    "IMG_SIZE = 224  # Resize all images to 224x224\n",
    "BATCH_SIZE = 8\n",
    "\n",
    "def preprocess(image, label):\n",
    "    image = tf.image.resize(image, [IMG_SIZE, IMG_SIZE])  # Resize to 224x224\n",
    "    image = tf.cast(image, tf.float32) / 255.0  # Normalize to [0, 1]\n",
    "    return image, label\n",
    "\n",
    "# Load the datasets\n",
    "# Training Dataset\n",
    "train_ds = tf.keras.preprocessing.image_dataset_from_directory(\n",
    "    train_dir,\n",
    "    label_mode='int',  # Labels are integers\n",
    "    batch_size=BATCH_SIZE,\n",
    "    image_size=(IMG_SIZE, IMG_SIZE),\n",
    "    shuffle=True\n",
    ").map(preprocess, num_parallel_calls=tf.data.AUTOTUNE).prefetch(tf.data.AUTOTUNE)\n"
   ]
  },
  {
   "cell_type": "code",
   "execution_count": 5,
   "id": "30ba039a",
   "metadata": {},
   "outputs": [
    {
     "name": "stdout",
     "output_type": "stream",
     "text": [
      "Found 500 files belonging to 10 classes.\n",
      "No test dataset found: name 'test_dir' is not defined\n",
      "Train batch shape: (8, 224, 224, 3) (8,)\n",
      "Validation batch shape: (8, 224, 224, 3) (8,)\n"
     ]
    }
   ],
   "source": [
    "# Validation Dataset\n",
    "val_ds = tf.keras.preprocessing.image_dataset_from_directory(\n",
    "    val_dir,\n",
    "    label_mode='int',\n",
    "    batch_size=BATCH_SIZE,\n",
    "    image_size=(IMG_SIZE, IMG_SIZE),\n",
    "    shuffle=False\n",
    ").map(preprocess, num_parallel_calls=tf.data.AUTOTUNE).prefetch(tf.data.AUTOTUNE)\n",
    "\n",
    "# Test Dataset (if test labels exist)\n",
    "# If no labels, use label_mode=None\n",
    "try:\n",
    "    test_ds = tf.keras.preprocessing.image_dataset_from_directory(\n",
    "        test_dir,\n",
    "        label_mode=None,  # Set None if labels are not available\n",
    "        batch_size=BATCH_SIZE,\n",
    "        image_size=(IMG_SIZE, IMG_SIZE),\n",
    "        shuffle=False\n",
    "    ).map(lambda x: tf.image.resize(x, [IMG_SIZE, IMG_SIZE]) / 255.0, \n",
    "          num_parallel_calls=tf.data.AUTOTUNE).prefetch(tf.data.AUTOTUNE)\n",
    "except Exception as e:\n",
    "    test_ds = None\n",
    "    print(f\"No test dataset found: {e}\")\n",
    "\n",
    "# Check dataset shapes\n",
    "for images, labels in train_ds.take(1):\n",
    "    print(\"Train batch shape:\", images.shape, labels.shape)\n",
    "for images, labels in val_ds.take(1):\n",
    "    print(\"Validation batch shape:\", images.shape, labels.shape)\n",
    "\n",
    "if test_ds:\n",
    "    for images in test_ds.take(1):\n",
    "        print(\"Test batch shape:\", images.shape)"
   ]
  },
  {
   "cell_type": "markdown",
   "id": "f3f07f9d",
   "metadata": {},
   "source": [
    "##  Part 3: Develop the Model"
   ]
  },
  {
   "cell_type": "markdown",
   "id": "b2e4a7d7",
   "metadata": {},
   "source": [
    "The key part of our project is the ConvMixer model."
   ]
  },
  {
   "cell_type": "code",
   "execution_count": 6,
   "id": "30fc883b",
   "metadata": {},
   "outputs": [],
   "source": [
    "import tensorflow as tf\n",
    "from tensorflow.keras import layers, Model, Sequential\n",
    "\n",
    "class Residual(layers.Layer):\n",
    "    def __init__(self, fn):\n",
    "        super(Residual, self).__init__()\n",
    "        self.fn = fn\n",
    "\n",
    "    def call(self, x):\n",
    "        return self.fn(x) + x\n",
    "\n",
    "def ConvMixer(dim, depth, kernel_size=9, patch_size=7, n_classes=1000):\n",
    "    # Patch extraction\n",
    "    layers_list = [\n",
    "        layers.Conv2D(dim, kernel_size=patch_size, strides=patch_size, padding=\"valid\"),\n",
    "        layers.Activation(\"gelu\"),\n",
    "        layers.BatchNormalization()\n",
    "    ]\n",
    "\n",
    "    # ConvMixer blocks\n",
    "    for _ in range(depth):\n",
    "        layers_list.append(Sequential([\n",
    "            Residual(Sequential([\n",
    "                layers.DepthwiseConv2D(kernel_size=kernel_size, padding=\"same\"),\n",
    "                layers.Activation(\"gelu\"),\n",
    "                layers.BatchNormalization()\n",
    "            ])),\n",
    "            layers.Conv2D(dim, kernel_size=1, padding=\"valid\"),\n",
    "            layers.Activation(\"gelu\"),\n",
    "            layers.BatchNormalization()\n",
    "        ]))\n",
    "\n",
    "    # Pooling and classification head\n",
    "    layers_list.extend([\n",
    "        layers.GlobalAveragePooling2D(),\n",
    "        layers.Flatten(),\n",
    "        layers.Dense(n_classes, activation=\"softmax\")\n",
    "    ])\n",
    "\n",
    "    # Build the model\n",
    "    return Sequential(layers_list)"
   ]
  },
  {
   "cell_type": "markdown",
   "id": "f18596ad",
   "metadata": {},
   "source": [
    "Now, we can setup our model."
   ]
  },
  {
   "cell_type": "code",
   "execution_count": null,
   "id": "675f5493",
   "metadata": {},
   "outputs": [
    {
     "name": "stdout",
     "output_type": "stream",
     "text": [
      "Model: \"sequential_101\"\n",
      "_________________________________________________________________\n",
      "Layer (type)                 Output Shape              Param #   \n",
      "=================================================================\n",
      "conv2d_45 (Conv2D)           (None, 16, 16, 512)       301568    \n",
      "_________________________________________________________________\n",
      "activation_85 (Activation)   (None, 16, 16, 512)       0         \n",
      "_________________________________________________________________\n",
      "batch_normalization_85 (Batc (None, 16, 16, 512)       2048      \n",
      "_________________________________________________________________\n",
      "sequential_86 (Sequential)   (None, 16, 16, 512)       308736    \n",
      "_________________________________________________________________\n",
      "sequential_88 (Sequential)   (None, 16, 16, 512)       308736    \n",
      "_________________________________________________________________\n",
      "sequential_90 (Sequential)   (None, 16, 16, 512)       308736    \n",
      "_________________________________________________________________\n",
      "sequential_92 (Sequential)   (None, 16, 16, 512)       308736    \n",
      "_________________________________________________________________\n",
      "sequential_94 (Sequential)   (None, 16, 16, 512)       308736    \n",
      "_________________________________________________________________\n",
      "sequential_96 (Sequential)   (None, 16, 16, 512)       308736    \n",
      "_________________________________________________________________\n",
      "sequential_98 (Sequential)   (None, 16, 16, 512)       308736    \n",
      "_________________________________________________________________\n",
      "sequential_100 (Sequential)  (None, 16, 16, 512)       308736    \n",
      "_________________________________________________________________\n",
      "global_average_pooling2d_5 ( (None, 512)               0         \n",
      "_________________________________________________________________\n",
      "flatten_5 (Flatten)          (None, 512)               0         \n",
      "_________________________________________________________________\n",
      "dense_5 (Dense)              (None, 10)                5130      \n",
      "=================================================================\n",
      "Total params: 2,778,634\n",
      "Trainable params: 2,761,226\n",
      "Non-trainable params: 17,408\n",
      "_________________________________________________________________\n"
     ]
    }
   ],
   "source": [
    "from utils.ConvMixer import ConvMixer\n",
    "\n",
    "# Model parameters\n",
    "dim = 512\n",
    "depth = 8\n",
    "kernel_size = 9\n",
    "patch_size = 14\n",
    "n_classes = 10\n",
    "\n",
    "# Build and summarize the model\n",
    "model = ConvMixer(dim=dim, depth=depth, kernel_size=kernel_size, patch_size=patch_size, n_classes=n_classes)\n",
    "model.build(input_shape=(None, 224, 224, 3))  # Assuming 224x224 RGB images\n",
    "model.summary()"
   ]
  },
  {
   "cell_type": "markdown",
   "id": "8b3ac5be",
   "metadata": {},
   "source": [
    "##  Part 4: Compile the Model"
   ]
  },
  {
   "cell_type": "markdown",
   "id": "cbbfc4da",
   "metadata": {},
   "source": [
    "Configure the optimizer, loss function, and metrics for training:"
   ]
  },
  {
   "cell_type": "code",
   "execution_count": 33,
   "id": "66be1ed4",
   "metadata": {},
   "outputs": [],
   "source": [
    "from tensorflow.keras.optimizers import Adam\n",
    "from tensorflow.keras.losses import SparseCategoricalCrossentropy\n",
    "from tensorflow.keras.metrics import SparseCategoricalAccuracy\n",
    "\n",
    "# Compile the ConvMixer model\n",
    "model.compile(\n",
    "    optimizer=Adam(learning_rate=0.001),\n",
    "    loss=SparseCategoricalCrossentropy(),\n",
    "    metrics=[SparseCategoricalAccuracy()]\n",
    ")"
   ]
  },
  {
   "cell_type": "markdown",
   "id": "33689d57",
   "metadata": {},
   "source": [
    "##  Part 5: Train the Model"
   ]
  },
  {
   "cell_type": "code",
   "execution_count": 34,
   "id": "49c1ef6c",
   "metadata": {},
   "outputs": [],
   "source": [
    "import tensorflow as tf\n",
    "import time\n",
    "\n",
    "class TimeHistory(tf.keras.callbacks.Callback):\n",
    "    def on_train_begin(self, logs=None):\n",
    "        self.train_start_time = time.time()\n",
    "        self.epoch_times = []\n",
    "\n",
    "    def on_epoch_begin(self, epoch, logs=None):\n",
    "        self.epoch_start_time = time.time()\n",
    "\n",
    "    def on_epoch_end(self, epoch, logs=None):\n",
    "        epoch_time = time.time() - self.epoch_start_time\n",
    "        self.epoch_times.append(epoch_time)\n",
    "        print(f\"Epoch {epoch + 1} time: {epoch_time:.2f} seconds\")\n",
    "\n",
    "    def on_train_end(self, logs=None):\n",
    "        total_time = time.time() - self.train_start_time\n",
    "        print(f\"Total training time: {total_time:.2f} seconds\")\n"
   ]
  },
  {
   "cell_type": "code",
   "execution_count": 35,
   "id": "f24fd1b2",
   "metadata": {},
   "outputs": [
    {
     "name": "stdout",
     "output_type": "stream",
     "text": [
      "Epoch 1/15\n",
      "  6/625 [..............................] - ETA: 44s - loss: 2.8176 - sparse_categorical_accuracy: 0.0948WARNING:tensorflow:Callback method `on_train_batch_end` is slow compared to the batch time (batch time: 0.0308s vs `on_train_batch_end` time: 0.0467s). Check your callbacks.\n",
      "625/625 [==============================] - 45s 67ms/step - loss: 2.2865 - sparse_categorical_accuracy: 0.2215 - val_loss: 2.0900 - val_sparse_categorical_accuracy: 0.3300\n",
      "Epoch 1 time: 45.13 seconds\n",
      "Epoch 2/15\n",
      "625/625 [==============================] - 41s 66ms/step - loss: 1.7939 - sparse_categorical_accuracy: 0.3780 - val_loss: 1.7113 - val_sparse_categorical_accuracy: 0.4260\n",
      "Epoch 2 time: 41.46 seconds\n",
      "Epoch 3/15\n",
      "625/625 [==============================] - 42s 66ms/step - loss: 1.6237 - sparse_categorical_accuracy: 0.4351 - val_loss: 1.6168 - val_sparse_categorical_accuracy: 0.4420\n",
      "Epoch 3 time: 41.53 seconds\n",
      "Epoch 4/15\n",
      "625/625 [==============================] - 42s 66ms/step - loss: 1.4980 - sparse_categorical_accuracy: 0.4846 - val_loss: 1.6084 - val_sparse_categorical_accuracy: 0.4800\n",
      "Epoch 4 time: 41.54 seconds\n",
      "Epoch 5/15\n",
      "625/625 [==============================] - 42s 66ms/step - loss: 1.3753 - sparse_categorical_accuracy: 0.5287 - val_loss: 1.4829 - val_sparse_categorical_accuracy: 0.5040\n",
      "Epoch 5 time: 41.50 seconds\n",
      "Epoch 6/15\n",
      "625/625 [==============================] - 42s 66ms/step - loss: 1.2376 - sparse_categorical_accuracy: 0.5843 - val_loss: 1.5413 - val_sparse_categorical_accuracy: 0.4880\n",
      "Epoch 6 time: 41.53 seconds\n",
      "Epoch 7/15\n",
      "625/625 [==============================] - 41s 66ms/step - loss: 1.0962 - sparse_categorical_accuracy: 0.6339 - val_loss: 1.6143 - val_sparse_categorical_accuracy: 0.5000\n",
      "Epoch 7 time: 41.46 seconds\n",
      "Epoch 8/15\n",
      "625/625 [==============================] - 42s 66ms/step - loss: 0.9651 - sparse_categorical_accuracy: 0.6675 - val_loss: 1.7394 - val_sparse_categorical_accuracy: 0.4980\n",
      "Epoch 8 time: 41.56 seconds\n",
      "Epoch 9/15\n",
      "625/625 [==============================] - 42s 67ms/step - loss: 0.7982 - sparse_categorical_accuracy: 0.7284 - val_loss: 1.4828 - val_sparse_categorical_accuracy: 0.5480\n",
      "Epoch 9 time: 41.64 seconds\n",
      "Epoch 10/15\n",
      "625/625 [==============================] - 42s 66ms/step - loss: 0.6408 - sparse_categorical_accuracy: 0.7823 - val_loss: 1.7448 - val_sparse_categorical_accuracy: 0.5520\n",
      "Epoch 10 time: 41.57 seconds\n",
      "Epoch 11/15\n",
      "625/625 [==============================] - 42s 66ms/step - loss: 0.4970 - sparse_categorical_accuracy: 0.8287 - val_loss: 2.1040 - val_sparse_categorical_accuracy: 0.4840\n",
      "Epoch 11 time: 41.57 seconds\n",
      "Epoch 12/15\n",
      "625/625 [==============================] - 42s 66ms/step - loss: 0.3857 - sparse_categorical_accuracy: 0.8739 - val_loss: 1.7386 - val_sparse_categorical_accuracy: 0.5740\n",
      "Epoch 12 time: 41.58 seconds\n",
      "Epoch 13/15\n",
      "625/625 [==============================] - 41s 66ms/step - loss: 0.3225 - sparse_categorical_accuracy: 0.8897 - val_loss: 1.6614 - val_sparse_categorical_accuracy: 0.5940\n",
      "Epoch 13 time: 41.47 seconds\n",
      "Epoch 14/15\n",
      "625/625 [==============================] - 41s 66ms/step - loss: 0.3063 - sparse_categorical_accuracy: 0.8932 - val_loss: 1.8917 - val_sparse_categorical_accuracy: 0.5700\n",
      "Epoch 14 time: 41.50 seconds\n",
      "Epoch 15/15\n",
      "625/625 [==============================] - 41s 66ms/step - loss: 0.2384 - sparse_categorical_accuracy: 0.9191 - val_loss: 1.9088 - val_sparse_categorical_accuracy: 0.5740\n",
      "Epoch 15 time: 41.48 seconds\n",
      "Total training time: 626.79 seconds\n"
     ]
    }
   ],
   "source": [
    "# Train the ConvMixer model\n",
    "EPOCHS = 15\n",
    "time_callback = TimeHistory()\n",
    "\n",
    "history = model.fit(\n",
    "    train_ds,\n",
    "    validation_data=val_ds,\n",
    "    epochs=EPOCHS,\n",
    "    verbose=1,\n",
    "    callbacks=[time_callback]\n",
    ")"
   ]
  },
  {
   "cell_type": "markdown",
   "id": "823cca23",
   "metadata": {},
   "source": [
    "##  Part 6: Validate the Model"
   ]
  },
  {
   "cell_type": "code",
   "execution_count": 36,
   "id": "43a61990",
   "metadata": {},
   "outputs": [
    {
     "name": "stdout",
     "output_type": "stream",
     "text": [
      "63/63 [==============================] - 1s 15ms/step - loss: 1.9088 - sparse_categorical_accuracy: 0.5740\n",
      "Validation Loss: 1.9088\n",
      "Validation Accuracy: 57.4000%\n"
     ]
    }
   ],
   "source": [
    "# Evaluate on validation set\n",
    "val_loss, val_accuracy = model.evaluate(val_ds, verbose=1)\n",
    "print(f\"Validation Loss: {val_loss:.4f}\")\n",
    "print(f\"Validation Accuracy: {val_accuracy:.4%}\")"
   ]
  },
  {
   "cell_type": "markdown",
   "id": "10548aa0",
   "metadata": {},
   "source": [
    "Plot training and validation accuracy/loss over epochs:"
   ]
  },
  {
   "cell_type": "code",
   "execution_count": 37,
   "id": "d0e44af3",
   "metadata": {},
   "outputs": [
    {
     "data": {
      "image/png": "[encoded data removed]",
      "text/plain": [
       "<Figure size 864x288 with 2 Axes>"
      ]
     },
     "metadata": {
      "needs_background": "light"
     },
     "output_type": "display_data"
    }
   ],
   "source": [
    "import matplotlib.pyplot as plt\n",
    "\n",
    "# Plot training history\n",
    "plt.figure(figsize=(12, 4))\n",
    "\n",
    "# Accuracy\n",
    "plt.subplot(1, 2, 1)\n",
    "plt.plot(history.history['sparse_categorical_accuracy'], label='Train Accuracy')\n",
    "plt.plot(history.history['val_sparse_categorical_accuracy'], label='Validation Accuracy')\n",
    "plt.xlabel('Epochs')\n",
    "plt.ylabel('Accuracy')\n",
    "plt.legend()\n",
    "plt.title('Training and Validation Accuracy (Default ConvMixer)')\n",
    "\n",
    "# Loss\n",
    "plt.subplot(1, 2, 2)\n",
    "plt.plot(history.history['loss'], label='Train Loss')\n",
    "plt.plot(history.history['val_loss'], label='Validation Loss')\n",
    "plt.xlabel('Epochs')\n",
    "plt.ylabel('Loss')\n",
    "plt.legend()\n",
    "plt.title('Training and Validation Loss (Default ConvMixer)')\n",
    "\n",
    "plt.show()"
   ]
  },
  {
   "cell_type": "markdown",
   "id": "8a6861e7",
   "metadata": {},
   "source": [
    "## Other Patch Values"
   ]
  },
  {
   "cell_type": "code",
   "execution_count": null,
   "id": "5a6af66b",
   "metadata": {},
   "outputs": [
    {
     "name": "stdout",
     "output_type": "stream",
     "text": [
      "Model: \"sequential_118\"\n",
      "_________________________________________________________________\n",
      "Layer (type)                 Output Shape              Param #   \n",
      "=================================================================\n",
      "conv2d_54 (Conv2D)           (None, 56, 56, 512)       25088     \n",
      "_________________________________________________________________\n",
      "activation_102 (Activation)  (None, 56, 56, 512)       0         \n",
      "_________________________________________________________________\n",
      "batch_normalization_102 (Bat (None, 56, 56, 512)       2048      \n",
      "_________________________________________________________________\n",
      "sequential_103 (Sequential)  (None, 56, 56, 512)       308736    \n",
      "_________________________________________________________________\n",
      "sequential_105 (Sequential)  (None, 56, 56, 512)       308736    \n",
      "_________________________________________________________________\n",
      "sequential_107 (Sequential)  (None, 56, 56, 512)       308736    \n",
      "_________________________________________________________________\n",
      "sequential_109 (Sequential)  (None, 56, 56, 512)       308736    \n",
      "_________________________________________________________________\n",
      "sequential_111 (Sequential)  (None, 56, 56, 512)       308736    \n",
      "_________________________________________________________________\n",
      "sequential_113 (Sequential)  (None, 56, 56, 512)       308736    \n",
      "_________________________________________________________________\n",
      "sequential_115 (Sequential)  (None, 56, 56, 512)       308736    \n",
      "_________________________________________________________________\n",
      "sequential_117 (Sequential)  (None, 56, 56, 512)       308736    \n",
      "_________________________________________________________________\n",
      "global_average_pooling2d_6 ( (None, 512)               0         \n",
      "_________________________________________________________________\n",
      "flatten_6 (Flatten)          (None, 512)               0         \n",
      "_________________________________________________________________\n",
      "dense_6 (Dense)              (None, 10)                5130      \n",
      "=================================================================\n",
      "Total params: 2,502,154\n",
      "Trainable params: 2,484,746\n",
      "Non-trainable params: 17,408\n",
      "_________________________________________________________________\n"
     ]
    }
   ],
   "source": [
    "from utils.ConvMixer import ConvMixer\n",
    "\n",
    "# Model parameters\n",
    "dim = 512\n",
    "depth = 8\n",
    "kernel_size = 9\n",
    "patch_size = 4\n",
    "n_classes = 10\n",
    "\n",
    "# Build and summarize the model\n",
    "model = ConvMixer(dim=dim, depth=depth, kernel_size=kernel_size, patch_size=patch_size, n_classes=n_classes)\n",
    "model.build(input_shape=(None, 224, 224, 3))  # Assuming 224x224 RGB images\n",
    "model.summary()"
   ]
  },
  {
   "cell_type": "code",
   "execution_count": 39,
   "id": "5370b63a",
   "metadata": {},
   "outputs": [],
   "source": [
    "from tensorflow.keras.optimizers import Adam\n",
    "from tensorflow.keras.losses import SparseCategoricalCrossentropy\n",
    "from tensorflow.keras.metrics import SparseCategoricalAccuracy\n",
    "\n",
    "# Compile the ConvMixer model\n",
    "model.compile(\n",
    "    optimizer=Adam(learning_rate=0.001),\n",
    "    loss=SparseCategoricalCrossentropy(),\n",
    "    metrics=[SparseCategoricalAccuracy()]\n",
    ")"
   ]
  },
  {
   "cell_type": "code",
   "execution_count": 40,
   "id": "c9e1c7c4",
   "metadata": {},
   "outputs": [],
   "source": [
    "import tensorflow as tf\n",
    "import time\n",
    "\n",
    "class TimeHistory(tf.keras.callbacks.Callback):\n",
    "    def on_train_begin(self, logs=None):\n",
    "        self.train_start_time = time.time()\n",
    "        self.epoch_times = []\n",
    "\n",
    "    def on_epoch_begin(self, epoch, logs=None):\n",
    "        self.epoch_start_time = time.time()\n",
    "\n",
    "    def on_epoch_end(self, epoch, logs=None):\n",
    "        epoch_time = time.time() - self.epoch_start_time\n",
    "        self.epoch_times.append(epoch_time)\n",
    "        print(f\"Epoch {epoch + 1} time: {epoch_time:.2f} seconds\")\n",
    "\n",
    "    def on_train_end(self, logs=None):\n",
    "        total_time = time.time() - self.train_start_time\n",
    "        print(f\"Total training time: {total_time:.2f} seconds\")\n"
   ]
  },
  {
   "cell_type": "code",
   "execution_count": 41,
   "id": "df8a2c67",
   "metadata": {},
   "outputs": [
    {
     "name": "stdout",
     "output_type": "stream",
     "text": [
      "Epoch 1/15\n",
      "  6/625 [..............................] - ETA: 8:11 - loss: 2.4407 - sparse_categorical_accuracy: 0.0653 WARNING:tensorflow:Callback method `on_train_batch_end` is slow compared to the batch time (batch time: 0.1699s vs `on_train_batch_end` time: 0.6255s). Check your callbacks.\n",
      "625/625 [==============================] - 513s 816ms/step - loss: 2.1459 - sparse_categorical_accuracy: 0.2628 - val_loss: 2.1123 - val_sparse_categorical_accuracy: 0.3020\n",
      "Epoch 1 time: 513.17 seconds\n",
      "Epoch 2/15\n",
      "625/625 [==============================] - 510s 816ms/step - loss: 1.7405 - sparse_categorical_accuracy: 0.4029 - val_loss: 1.7535 - val_sparse_categorical_accuracy: 0.4640\n",
      "Epoch 2 time: 510.06 seconds\n",
      "Epoch 3/15\n",
      "625/625 [==============================] - 511s 817ms/step - loss: 1.4981 - sparse_categorical_accuracy: 0.4834 - val_loss: 2.3106 - val_sparse_categorical_accuracy: 0.4720\n",
      "Epoch 3 time: 510.53 seconds\n",
      "Epoch 4/15\n",
      "625/625 [==============================] - 510s 816ms/step - loss: 1.3292 - sparse_categorical_accuracy: 0.5532 - val_loss: 1.2719 - val_sparse_categorical_accuracy: 0.5840\n",
      "Epoch 4 time: 509.95 seconds\n",
      "Epoch 5/15\n",
      "625/625 [==============================] - 510s 816ms/step - loss: 1.2097 - sparse_categorical_accuracy: 0.5993 - val_loss: 1.4484 - val_sparse_categorical_accuracy: 0.5680\n",
      "Epoch 5 time: 510.02 seconds\n",
      "Epoch 6/15\n",
      "625/625 [==============================] - 511s 817ms/step - loss: 1.0928 - sparse_categorical_accuracy: 0.6467 - val_loss: 1.4626 - val_sparse_categorical_accuracy: 0.5820\n",
      "Epoch 6 time: 510.68 seconds\n",
      "Epoch 7/15\n",
      "625/625 [==============================] - 511s 817ms/step - loss: 0.9904 - sparse_categorical_accuracy: 0.6677 - val_loss: 1.4322 - val_sparse_categorical_accuracy: 0.5700\n",
      "Epoch 7 time: 510.95 seconds\n",
      "Epoch 8/15\n",
      "625/625 [==============================] - 510s 815ms/step - loss: 0.8931 - sparse_categorical_accuracy: 0.6933 - val_loss: 1.3951 - val_sparse_categorical_accuracy: 0.6160\n",
      "Epoch 8 time: 509.69 seconds\n",
      "Epoch 9/15\n",
      "625/625 [==============================] - 511s 817ms/step - loss: 0.8004 - sparse_categorical_accuracy: 0.7337 - val_loss: 1.7393 - val_sparse_categorical_accuracy: 0.5540\n",
      "Epoch 9 time: 510.82 seconds\n",
      "Epoch 10/15\n",
      "625/625 [==============================] - 510s 816ms/step - loss: 0.6441 - sparse_categorical_accuracy: 0.7857 - val_loss: 1.3267 - val_sparse_categorical_accuracy: 0.6240\n",
      "Epoch 10 time: 510.32 seconds\n",
      "Epoch 11/15\n",
      "625/625 [==============================] - 511s 817ms/step - loss: 0.5579 - sparse_categorical_accuracy: 0.8096 - val_loss: 1.1525 - val_sparse_categorical_accuracy: 0.6980\n",
      "Epoch 11 time: 510.80 seconds\n",
      "Epoch 12/15\n",
      "625/625 [==============================] - 511s 817ms/step - loss: 0.4581 - sparse_categorical_accuracy: 0.8433 - val_loss: 1.1494 - val_sparse_categorical_accuracy: 0.6920\n",
      "Epoch 12 time: 510.85 seconds\n",
      "Epoch 13/15\n",
      "625/625 [==============================] - 510s 816ms/step - loss: 0.3759 - sparse_categorical_accuracy: 0.8656 - val_loss: 1.2049 - val_sparse_categorical_accuracy: 0.6980\n",
      "Epoch 13 time: 510.21 seconds\n",
      "Epoch 14/15\n",
      "625/625 [==============================] - 510s 816ms/step - loss: 0.3063 - sparse_categorical_accuracy: 0.8916 - val_loss: 1.1833 - val_sparse_categorical_accuracy: 0.7040\n",
      "Epoch 14 time: 510.09 seconds\n",
      "Epoch 15/15\n",
      "625/625 [==============================] - 510s 817ms/step - loss: 0.2557 - sparse_categorical_accuracy: 0.9121 - val_loss: 1.5130 - val_sparse_categorical_accuracy: 0.6720\n",
      "Epoch 15 time: 510.50 seconds\n",
      "Total training time: 7658.90 seconds\n"
     ]
    }
   ],
   "source": [
    "# Train the ConvMixer model\n",
    "EPOCHS = 15\n",
    "time_callback = TimeHistory()\n",
    "\n",
    "history = model.fit(\n",
    "    train_ds,\n",
    "    validation_data=val_ds,\n",
    "    epochs=EPOCHS,\n",
    "    verbose=1,\n",
    "    callbacks=[time_callback]\n",
    ")"
   ]
  },
  {
   "cell_type": "markdown",
   "id": "2b616ea2",
   "metadata": {},
   "source": [
    "##  Validate the Model"
   ]
  },
  {
   "cell_type": "code",
   "execution_count": 42,
   "id": "5d639220",
   "metadata": {},
   "outputs": [
    {
     "name": "stdout",
     "output_type": "stream",
     "text": [
      "63/63 [==============================] - 10s 153ms/step - loss: 1.5130 - sparse_categorical_accuracy: 0.6720\n",
      "Validation Loss: 1.5130\n",
      "Validation Accuracy: 67.2000%\n"
     ]
    }
   ],
   "source": [
    "# Evaluate on validation set\n",
    "val_loss, val_accuracy = model.evaluate(val_ds, verbose=1)\n",
    "print(f\"Validation Loss: {val_loss:.4f}\")\n",
    "print(f\"Validation Accuracy: {val_accuracy:.4%}\")"
   ]
  },
  {
   "cell_type": "code",
   "execution_count": 43,
   "id": "da24f177",
   "metadata": {},
   "outputs": [
    {
     "data": {
      "image/png": "[encoded data removed]",
      "text/plain": [
       "<Figure size 864x288 with 2 Axes>"
      ]
     },
     "metadata": {
      "needs_background": "light"
     },
     "output_type": "display_data"
    }
   ],
   "source": [
    "import matplotlib.pyplot as plt\n",
    "\n",
    "# Plot training history\n",
    "plt.figure(figsize=(12, 4))\n",
    "\n",
    "# Accuracy\n",
    "plt.subplot(1, 2, 1)\n",
    "plt.plot(history.history['sparse_categorical_accuracy'], label='Train Accuracy')\n",
    "plt.plot(history.history['val_sparse_categorical_accuracy'], label='Validation Accuracy')\n",
    "plt.xlabel('Epochs')\n",
    "plt.ylabel('Accuracy')\n",
    "plt.legend()\n",
    "plt.title('Training and Validation Accuracy (Default ConvMixer)')\n",
    "\n",
    "# Loss\n",
    "plt.subplot(1, 2, 2)\n",
    "plt.plot(history.history['loss'], label='Train Loss')\n",
    "plt.plot(history.history['val_loss'], label='Validation Loss')\n",
    "plt.xlabel('Epochs')\n",
    "plt.ylabel('Loss')\n",
    "plt.legend()\n",
    "plt.title('Training and Validation Loss (Default ConvMixer)')\n",
    "\n",
    "plt.show()"
   ]
  },
  {
   "cell_type": "markdown",
   "id": "ab98ea80",
   "metadata": {},
   "source": [
    "## Patch = 11"
   ]
  },
  {
   "cell_type": "code",
   "execution_count": null,
   "id": "036c6305",
   "metadata": {},
   "outputs": [
    {
     "name": "stdout",
     "output_type": "stream",
     "text": [
      "Model: \"sequential_84\"\n",
      "_________________________________________________________________\n",
      "Layer (type)                 Output Shape              Param #   \n",
      "=================================================================\n",
      "conv2d_36 (Conv2D)           (None, 20, 20, 512)       186368    \n",
      "_________________________________________________________________\n",
      "activation_68 (Activation)   (None, 20, 20, 512)       0         \n",
      "_________________________________________________________________\n",
      "batch_normalization_68 (Batc (None, 20, 20, 512)       2048      \n",
      "_________________________________________________________________\n",
      "sequential_69 (Sequential)   (None, 20, 20, 512)       308736    \n",
      "_________________________________________________________________\n",
      "sequential_71 (Sequential)   (None, 20, 20, 512)       308736    \n",
      "_________________________________________________________________\n",
      "sequential_73 (Sequential)   (None, 20, 20, 512)       308736    \n",
      "_________________________________________________________________\n",
      "sequential_75 (Sequential)   (None, 20, 20, 512)       308736    \n",
      "_________________________________________________________________\n",
      "sequential_77 (Sequential)   (None, 20, 20, 512)       308736    \n",
      "_________________________________________________________________\n",
      "sequential_79 (Sequential)   (None, 20, 20, 512)       308736    \n",
      "_________________________________________________________________\n",
      "sequential_81 (Sequential)   (None, 20, 20, 512)       308736    \n",
      "_________________________________________________________________\n",
      "sequential_83 (Sequential)   (None, 20, 20, 512)       308736    \n",
      "_________________________________________________________________\n",
      "global_average_pooling2d_4 ( (None, 512)               0         \n",
      "_________________________________________________________________\n",
      "flatten_4 (Flatten)          (None, 512)               0         \n",
      "_________________________________________________________________\n",
      "dense_4 (Dense)              (None, 10)                5130      \n",
      "=================================================================\n",
      "Total params: 2,663,434\n",
      "Trainable params: 2,646,026\n",
      "Non-trainable params: 17,408\n",
      "_________________________________________________________________\n"
     ]
    }
   ],
   "source": [
    "from utils.ConvMixer import ConvMixer\n",
    "\n",
    "# Model parameters\n",
    "dim = 512\n",
    "depth = 8\n",
    "kernel_size = 9\n",
    "patch_size = 11\n",
    "n_classes = 10\n",
    "\n",
    "# Build and summarize the model\n",
    "model = ConvMixer(dim=dim, depth=depth, kernel_size=kernel_size, patch_size=patch_size, n_classes=n_classes)\n",
    "model.build(input_shape=(None, 224, 224, 3))  # Assuming 224x224 RGB images\n",
    "model.summary()"
   ]
  },
  {
   "cell_type": "code",
   "execution_count": 27,
   "id": "51d9300e",
   "metadata": {},
   "outputs": [],
   "source": [
    "from tensorflow.keras.optimizers import Adam\n",
    "from tensorflow.keras.losses import SparseCategoricalCrossentropy\n",
    "from tensorflow.keras.metrics import SparseCategoricalAccuracy\n",
    "\n",
    "# Compile the ConvMixer model\n",
    "model.compile(\n",
    "    optimizer=Adam(learning_rate=0.001),\n",
    "    loss=SparseCategoricalCrossentropy(),\n",
    "    metrics=[SparseCategoricalAccuracy()]\n",
    ")"
   ]
  },
  {
   "cell_type": "code",
   "execution_count": 28,
   "id": "ebfddaff",
   "metadata": {},
   "outputs": [],
   "source": [
    "import tensorflow as tf\n",
    "import time\n",
    "\n",
    "class TimeHistory(tf.keras.callbacks.Callback):\n",
    "    def on_train_begin(self, logs=None):\n",
    "        self.train_start_time = time.time()\n",
    "        self.epoch_times = []\n",
    "\n",
    "    def on_epoch_begin(self, epoch, logs=None):\n",
    "        self.epoch_start_time = time.time()\n",
    "\n",
    "    def on_epoch_end(self, epoch, logs=None):\n",
    "        epoch_time = time.time() - self.epoch_start_time\n",
    "        self.epoch_times.append(epoch_time)\n",
    "        print(f\"Epoch {epoch + 1} time: {epoch_time:.2f} seconds\")\n",
    "\n",
    "    def on_train_end(self, logs=None):\n",
    "        total_time = time.time() - self.train_start_time\n",
    "        print(f\"Total training time: {total_time:.2f} seconds\")"
   ]
  },
  {
   "cell_type": "code",
   "execution_count": 29,
   "id": "2d2daf01",
   "metadata": {},
   "outputs": [
    {
     "name": "stdout",
     "output_type": "stream",
     "text": [
      "Epoch 1/15\n",
      "  6/625 [..............................] - ETA: 1:00 - loss: 2.5758 - sparse_categorical_accuracy: 0.1733WARNING:tensorflow:Callback method `on_train_batch_end` is slow compared to the batch time (batch time: 0.0326s vs `on_train_batch_end` time: 0.0543s). Check your callbacks.\n",
      "625/625 [==============================] - 66s 101ms/step - loss: 2.2515 - sparse_categorical_accuracy: 0.2454 - val_loss: 2.3607 - val_sparse_categorical_accuracy: 0.3440\n",
      "Epoch 1 time: 66.11 seconds\n",
      "Epoch 2/15\n",
      "625/625 [==============================] - 62s 100ms/step - loss: 1.7276 - sparse_categorical_accuracy: 0.3985 - val_loss: 1.9453 - val_sparse_categorical_accuracy: 0.4160\n",
      "Epoch 2 time: 62.25 seconds\n",
      "Epoch 3/15\n",
      "625/625 [==============================] - 62s 100ms/step - loss: 1.5934 - sparse_categorical_accuracy: 0.4576 - val_loss: 1.6722 - val_sparse_categorical_accuracy: 0.4700\n",
      "Epoch 3 time: 62.33 seconds\n",
      "Epoch 4/15\n",
      "625/625 [==============================] - 62s 100ms/step - loss: 1.4448 - sparse_categorical_accuracy: 0.5091 - val_loss: 1.5378 - val_sparse_categorical_accuracy: 0.4880\n",
      "Epoch 4 time: 62.29 seconds\n",
      "Epoch 5/15\n",
      "625/625 [==============================] - 62s 100ms/step - loss: 1.3249 - sparse_categorical_accuracy: 0.5505 - val_loss: 1.5009 - val_sparse_categorical_accuracy: 0.4760\n",
      "Epoch 5 time: 62.33 seconds\n",
      "Epoch 6/15\n",
      "625/625 [==============================] - 62s 100ms/step - loss: 1.2076 - sparse_categorical_accuracy: 0.5784 - val_loss: 1.4964 - val_sparse_categorical_accuracy: 0.5360\n",
      "Epoch 6 time: 62.26 seconds\n",
      "Epoch 7/15\n",
      "625/625 [==============================] - 62s 100ms/step - loss: 1.0717 - sparse_categorical_accuracy: 0.6346 - val_loss: 1.6107 - val_sparse_categorical_accuracy: 0.5340\n",
      "Epoch 7 time: 62.38 seconds\n",
      "Epoch 8/15\n",
      "625/625 [==============================] - 62s 99ms/step - loss: 0.8663 - sparse_categorical_accuracy: 0.7031 - val_loss: 1.4093 - val_sparse_categorical_accuracy: 0.5900\n",
      "Epoch 8 time: 62.17 seconds\n",
      "Epoch 9/15\n",
      "625/625 [==============================] - 62s 100ms/step - loss: 0.6955 - sparse_categorical_accuracy: 0.7704 - val_loss: 1.7258 - val_sparse_categorical_accuracy: 0.5500\n",
      "Epoch 9 time: 62.29 seconds\n",
      "Epoch 10/15\n",
      "625/625 [==============================] - 62s 100ms/step - loss: 0.5918 - sparse_categorical_accuracy: 0.7992 - val_loss: 1.7039 - val_sparse_categorical_accuracy: 0.5760\n",
      "Epoch 10 time: 62.33 seconds\n",
      "Epoch 11/15\n",
      "625/625 [==============================] - 62s 100ms/step - loss: 0.4497 - sparse_categorical_accuracy: 0.8464 - val_loss: 1.5422 - val_sparse_categorical_accuracy: 0.5920\n",
      "Epoch 11 time: 62.35 seconds\n",
      "Epoch 12/15\n",
      "625/625 [==============================] - 62s 100ms/step - loss: 0.3313 - sparse_categorical_accuracy: 0.8910 - val_loss: 1.6409 - val_sparse_categorical_accuracy: 0.5900\n",
      "Epoch 12 time: 62.39 seconds\n",
      "Epoch 13/15\n",
      "625/625 [==============================] - 62s 100ms/step - loss: 0.2845 - sparse_categorical_accuracy: 0.9012 - val_loss: 1.5550 - val_sparse_categorical_accuracy: 0.6140\n",
      "Epoch 13 time: 62.35 seconds\n",
      "Epoch 14/15\n",
      "625/625 [==============================] - 62s 100ms/step - loss: 0.2557 - sparse_categorical_accuracy: 0.9106 - val_loss: 1.8083 - val_sparse_categorical_accuracy: 0.6160\n",
      "Epoch 14 time: 62.31 seconds\n",
      "Epoch 15/15\n",
      "625/625 [==============================] - 62s 100ms/step - loss: 0.2427 - sparse_categorical_accuracy: 0.9154 - val_loss: 1.5425 - val_sparse_categorical_accuracy: 0.6340\n",
      "Epoch 15 time: 62.36 seconds\n",
      "Total training time: 938.77 seconds\n"
     ]
    }
   ],
   "source": [
    "# Train the ConvMixer model\n",
    "EPOCHS = 15\n",
    "time_callback = TimeHistory()\n",
    "\n",
    "history = model.fit(\n",
    "    train_ds,\n",
    "    validation_data=val_ds,\n",
    "    epochs=EPOCHS,\n",
    "    verbose=1,\n",
    "    callbacks=[time_callback]\n",
    ")"
   ]
  },
  {
   "cell_type": "code",
   "execution_count": 30,
   "id": "d66bd0ff",
   "metadata": {},
   "outputs": [
    {
     "name": "stdout",
     "output_type": "stream",
     "text": [
      "63/63 [==============================] - 1s 19ms/step - loss: 1.5425 - sparse_categorical_accuracy: 0.6340\n",
      "Validation Loss: 1.5425\n",
      "Validation Accuracy: 63.4000%\n"
     ]
    }
   ],
   "source": [
    "# Evaluate on validation set\n",
    "val_loss, val_accuracy = model.evaluate(val_ds, verbose=1)\n",
    "print(f\"Validation Loss: {val_loss:.4f}\")\n",
    "print(f\"Validation Accuracy: {val_accuracy:.4%}\")"
   ]
  },
  {
   "cell_type": "code",
   "execution_count": 31,
   "id": "a136daf3",
   "metadata": {},
   "outputs": [
    {
     "data": {
      "image/png": "[encoded data removed]",
      "text/plain": [
       "<Figure size 864x288 with 2 Axes>"
      ]
     },
     "metadata": {
      "needs_background": "light"
     },
     "output_type": "display_data"
    }
   ],
   "source": [
    "import matplotlib.pyplot as plt\n",
    "\n",
    "# Plot training history\n",
    "plt.figure(figsize=(12, 4))\n",
    "\n",
    "# Accuracy\n",
    "plt.subplot(1, 2, 1)\n",
    "plt.plot(history.history['sparse_categorical_accuracy'], label='Train Accuracy')\n",
    "plt.plot(history.history['val_sparse_categorical_accuracy'], label='Validation Accuracy')\n",
    "plt.xlabel('Epochs')\n",
    "plt.ylabel('Accuracy')\n",
    "plt.legend()\n",
    "plt.title('Training and Validation Accuracy (Default ConvMixer)')\n",
    "\n",
    "# Loss\n",
    "plt.subplot(1, 2, 2)\n",
    "plt.plot(history.history['loss'], label='Train Loss')\n",
    "plt.plot(history.history['val_loss'], label='Validation Loss')\n",
    "plt.xlabel('Epochs')\n",
    "plt.ylabel('Loss')\n",
    "plt.legend()\n",
    "plt.title('Training and Validation Loss (Default ConvMixer)')\n",
    "\n",
    "plt.show()"
   ]
  },
  {
   "cell_type": "code",
   "execution_count": null,
   "id": "24ceebad",
   "metadata": {},
   "outputs": [],
   "source": []
  }
 ],
 "metadata": {
  "kernelspec": {
   "display_name": "Python 3",
   "language": "python",
   "name": "python3"
  },
  "language_info": {
   "codemirror_mode": {
    "name": "ipython",
    "version": 3
   },
   "file_extension": ".py",
   "mimetype": "text/x-python",
   "name": "python",
   "nbconvert_exporter": "python",
   "pygments_lexer": "ipython3",
   "version": "3.6.9"
  }
 },
 "nbformat": 4,
 "nbformat_minor": 5
}
