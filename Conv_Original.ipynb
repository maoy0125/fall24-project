{
 "cells": [
  {
   "cell_type": "code",
   "execution_count": 13,
   "id": "166bf35e",
   "metadata": {},
   "outputs": [
    {
     "name": "stdout",
     "output_type": "stream",
     "text": [
      "Using GPU(0): PhysicalDevice(name='/physical_device:GPU:0', device_type='GPU')\n",
      "The autoreload extension is already loaded. To reload it, use:\n",
      "  %reload_ext autoreload\n",
      "2.4.0\n"
     ]
    }
   ],
   "source": [
    "# Import modules\n",
    "from __future__ import print_function\n",
    "import tensorflow as tf\n",
    "\n",
    "physical_devices = tf.config.experimental.list_physical_devices('GPU')\n",
    "if len(physical_devices) > 0:\n",
    "    print('Using GPU(0):', physical_devices[0])\n",
    "    tf.config.experimental.set_memory_growth(physical_devices[0], enable=True)\n",
    "else:\n",
    "    print('Using CPU')\n",
    "\n",
    "import numpy as np\n",
    "from numpy.random import shuffle\n",
    "import time\n",
    "import matplotlib.pyplot as plt\n",
    "\n",
    "# Plot configurations\n",
    "%matplotlib inline\n",
    "\n",
    "# Notebook auto reload code. (Ref: http://stackoverflow.com/questions/1907993/autoreload-of-modules-in-ipython)\n",
    "%load_ext autoreload\n",
    "%autoreload 2\n",
    "print(tf.__version__)"
   ]
  },
  {
   "cell_type": "code",
   "execution_count": 14,
   "id": "d777a7b6",
   "metadata": {},
   "outputs": [],
   "source": [
    "import tensorflow as tf\n",
    "import os\n",
    "import shutil\n",
    "\n",
    "data_dir = \"tiny-imagenet-10\"  # Folder name after extraction\n",
    "\n",
    "# Get the list of all class directories in the training set\n",
    "train_dir = os.path.join(data_dir, 'train')\n",
    "val_dir = os.path.join(data_dir, 'val')"
   ]
  },
  {
   "cell_type": "code",
   "execution_count": 15,
   "id": "e7e92039",
   "metadata": {},
   "outputs": [
    {
     "name": "stdout",
     "output_type": "stream",
     "text": [
      "Found 5000 files belonging to 10 classes.\n"
     ]
    }
   ],
   "source": [
    "import shutil\n",
    "\n",
    "# Define preprocessing\n",
    "IMG_SIZE = 224  # Resize all images to 224x224\n",
    "BATCH_SIZE = 8\n",
    "\n",
    "def preprocess(image, label):\n",
    "    image = tf.image.resize(image, [IMG_SIZE, IMG_SIZE])  # Resize to 224x224\n",
    "    image = tf.cast(image, tf.float32) / 255.0  # Normalize to [0, 1]\n",
    "    return image, label\n",
    "\n",
    "# Training Dataset\n",
    "train_ds = tf.keras.preprocessing.image_dataset_from_directory(\n",
    "    train_dir,\n",
    "    label_mode='int',  # Labels are integers\n",
    "    batch_size=BATCH_SIZE,\n",
    "    image_size=(IMG_SIZE, IMG_SIZE),\n",
    "    shuffle=True\n",
    ").map(preprocess, num_parallel_calls=tf.data.AUTOTUNE).prefetch(tf.data.AUTOTUNE)\n"
   ]
  },
  {
   "cell_type": "code",
   "execution_count": 16,
   "id": "81cd3507",
   "metadata": {},
   "outputs": [
    {
     "name": "stdout",
     "output_type": "stream",
     "text": [
      "Found 500 files belonging to 10 classes.\n",
      "No test dataset found: name 'test_dir' is not defined\n",
      "Train batch shape: (8, 224, 224, 3) (8,)\n",
      "Validation batch shape: (8, 224, 224, 3) (8,)\n"
     ]
    }
   ],
   "source": [
    "# Validation Dataset\n",
    "val_ds = tf.keras.preprocessing.image_dataset_from_directory(\n",
    "    val_dir,\n",
    "    label_mode='int',\n",
    "    batch_size=BATCH_SIZE,\n",
    "    image_size=(IMG_SIZE, IMG_SIZE),\n",
    "    shuffle=False\n",
    ").map(preprocess, num_parallel_calls=tf.data.AUTOTUNE).prefetch(tf.data.AUTOTUNE)\n",
    "\n",
    "# Test Dataset (if test labels exist)\n",
    "# If no labels, use label_mode=None\n",
    "try:\n",
    "    test_ds = tf.keras.preprocessing.image_dataset_from_directory(\n",
    "        test_dir,\n",
    "        label_mode=None,  # Set None if labels are not available\n",
    "        batch_size=BATCH_SIZE,\n",
    "        image_size=(IMG_SIZE, IMG_SIZE),\n",
    "        shuffle=False\n",
    "    ).map(lambda x: tf.image.resize(x, [IMG_SIZE, IMG_SIZE]) / 255.0, \n",
    "          num_parallel_calls=tf.data.AUTOTUNE).prefetch(tf.data.AUTOTUNE)\n",
    "except Exception as e:\n",
    "    test_ds = None\n",
    "    print(f\"No test dataset found: {e}\")\n",
    "\n",
    "# Check dataset shapes\n",
    "for images, labels in train_ds.take(1):\n",
    "    print(\"Train batch shape:\", images.shape, labels.shape)\n",
    "for images, labels in val_ds.take(1):\n",
    "    print(\"Validation batch shape:\", images.shape, labels.shape)\n",
    "\n",
    "if test_ds:\n",
    "    for images in test_ds.take(1):\n",
    "        print(\"Test batch shape:\", images.shape)"
   ]
  },
  {
   "cell_type": "code",
   "execution_count": 17,
   "id": "566250bb",
   "metadata": {},
   "outputs": [],
   "source": [
    "import tensorflow as tf\n",
    "from tensorflow.keras import layers, Model, Sequential\n",
    "\n",
    "class Residual(layers.Layer):\n",
    "    def __init__(self, fn):\n",
    "        super(Residual, self).__init__()\n",
    "        self.fn = fn\n",
    "\n",
    "    def call(self, x):\n",
    "        return self.fn(x) + x\n",
    "\n",
    "def ConvMixer(dim, depth, kernel_size=9, patch_size=7, n_classes=1000):\n",
    "    # Patch extraction\n",
    "    layers_list = [\n",
    "        layers.Conv2D(dim, kernel_size=patch_size, strides=patch_size, padding=\"valid\"),\n",
    "        layers.Activation(\"gelu\"),\n",
    "        layers.BatchNormalization()\n",
    "    ]\n",
    "\n",
    "    # ConvMixer blocks\n",
    "    for _ in range(depth):\n",
    "        layers_list.append(Sequential([\n",
    "            Residual(Sequential([\n",
    "                layers.DepthwiseConv2D(kernel_size=kernel_size, padding=\"same\"),\n",
    "                layers.Activation(\"gelu\"),\n",
    "                layers.BatchNormalization()\n",
    "            ])),\n",
    "            layers.Conv2D(dim, kernel_size=1, padding=\"valid\"),\n",
    "            layers.Activation(\"gelu\"),\n",
    "            layers.BatchNormalization()\n",
    "        ]))\n",
    "\n",
    "    # Pooling and classification head\n",
    "    layers_list.extend([\n",
    "        layers.GlobalAveragePooling2D(),\n",
    "        layers.Flatten(),\n",
    "        layers.Dense(n_classes, activation=\"softmax\")\n",
    "    ])\n",
    "\n",
    "    # Build the model\n",
    "    return Sequential(layers_list)"
   ]
  },
  {
   "cell_type": "code",
   "execution_count": null,
   "id": "79565ccb",
   "metadata": {},
   "outputs": [
    {
     "name": "stdout",
     "output_type": "stream",
     "text": [
      "Model: \"sequential_84\"\n",
      "_________________________________________________________________\n",
      "Layer (type)                 Output Shape              Param #   \n",
      "=================================================================\n",
      "conv2d_36 (Conv2D)           (None, 32, 32, 512)       75776     \n",
      "_________________________________________________________________\n",
      "activation_68 (Activation)   (None, 32, 32, 512)       0         \n",
      "_________________________________________________________________\n",
      "batch_normalization_68 (Batc (None, 32, 32, 512)       2048      \n",
      "_________________________________________________________________\n",
      "sequential_69 (Sequential)   (None, 32, 32, 512)       308736    \n",
      "_________________________________________________________________\n",
      "sequential_71 (Sequential)   (None, 32, 32, 512)       308736    \n",
      "_________________________________________________________________\n",
      "sequential_73 (Sequential)   (None, 32, 32, 512)       308736    \n",
      "_________________________________________________________________\n",
      "sequential_75 (Sequential)   (None, 32, 32, 512)       308736    \n",
      "_________________________________________________________________\n",
      "sequential_77 (Sequential)   (None, 32, 32, 512)       308736    \n",
      "_________________________________________________________________\n",
      "sequential_79 (Sequential)   (None, 32, 32, 512)       308736    \n",
      "_________________________________________________________________\n",
      "sequential_81 (Sequential)   (None, 32, 32, 512)       308736    \n",
      "_________________________________________________________________\n",
      "sequential_83 (Sequential)   (None, 32, 32, 512)       308736    \n",
      "_________________________________________________________________\n",
      "global_average_pooling2d_4 ( (None, 512)               0         \n",
      "_________________________________________________________________\n",
      "flatten_4 (Flatten)          (None, 512)               0         \n",
      "_________________________________________________________________\n",
      "dense_4 (Dense)              (None, 10)                5130      \n",
      "=================================================================\n",
      "Total params: 2,552,842\n",
      "Trainable params: 2,535,434\n",
      "Non-trainable params: 17,408\n",
      "_________________________________________________________________\n"
     ]
    }
   ],
   "source": [
    "from utils.ConvMixer import ConvMixer\n",
    "# Model parameters\n",
    "dim = 512\n",
    "depth = 8\n",
    "kernel_size = 9\n",
    "patch_size = 7\n",
    "n_classes = 10\n",
    "\n",
    "# Build and summarize the model\n",
    "model = ConvMixer(dim=dim, depth=depth, kernel_size=kernel_size, patch_size=patch_size, n_classes=n_classes)\n",
    "model.build(input_shape=(None, 224, 224, 3))  # Assuming 224x224 RGB images\n",
    "model.summary()"
   ]
  },
  {
   "cell_type": "code",
   "execution_count": 27,
   "id": "3dd6c59c",
   "metadata": {},
   "outputs": [],
   "source": [
    "from tensorflow.keras.optimizers import Adam\n",
    "from tensorflow.keras.losses import SparseCategoricalCrossentropy\n",
    "from tensorflow.keras.metrics import SparseCategoricalAccuracy\n",
    "\n",
    "# Compile the ConvMixer model\n",
    "model.compile(\n",
    "    optimizer=Adam(learning_rate=0.001),\n",
    "    loss=SparseCategoricalCrossentropy(),\n",
    "    metrics=[SparseCategoricalAccuracy()]\n",
    ")"
   ]
  },
  {
   "cell_type": "code",
   "execution_count": 28,
   "id": "222f7aba",
   "metadata": {},
   "outputs": [],
   "source": [
    "import tensorflow as tf\n",
    "import time\n",
    "\n",
    "class TimeHistory(tf.keras.callbacks.Callback):\n",
    "    def on_train_begin(self, logs=None):\n",
    "        self.train_start_time = time.time()\n",
    "        self.epoch_times = []\n",
    "\n",
    "    def on_epoch_begin(self, epoch, logs=None):\n",
    "        self.epoch_start_time = time.time()\n",
    "\n",
    "    def on_epoch_end(self, epoch, logs=None):\n",
    "        epoch_time = time.time() - self.epoch_start_time\n",
    "        self.epoch_times.append(epoch_time)\n",
    "        print(f\"Epoch {epoch + 1} time: {epoch_time:.2f} seconds\")\n",
    "\n",
    "    def on_train_end(self, logs=None):\n",
    "        total_time = time.time() - self.train_start_time\n",
    "        print(f\"Total training time: {total_time:.2f} seconds\")"
   ]
  },
  {
   "cell_type": "code",
   "execution_count": 29,
   "id": "9644d6d1",
   "metadata": {},
   "outputs": [
    {
     "name": "stdout",
     "output_type": "stream",
     "text": [
      "Epoch 1/15\n",
      "  6/625 [..............................] - ETA: 3:28 - loss: 2.6858 - sparse_categorical_accuracy: 0.0868 WARNING:tensorflow:Callback method `on_train_batch_end` is slow compared to the batch time (batch time: 0.1105s vs `on_train_batch_end` time: 0.2240s). Check your callbacks.\n",
      "625/625 [==============================] - 218s 342ms/step - loss: 2.2192 - sparse_categorical_accuracy: 0.2400 - val_loss: 2.2747 - val_sparse_categorical_accuracy: 0.3380\n",
      "Epoch 1 time: 218.15 seconds\n",
      "Epoch 2/15\n",
      "625/625 [==============================] - 213s 341ms/step - loss: 1.7381 - sparse_categorical_accuracy: 0.4050 - val_loss: 1.9759 - val_sparse_categorical_accuracy: 0.4220\n",
      "Epoch 2 time: 213.27 seconds\n",
      "Epoch 3/15\n",
      "625/625 [==============================] - 214s 342ms/step - loss: 1.5401 - sparse_categorical_accuracy: 0.4784 - val_loss: 1.6201 - val_sparse_categorical_accuracy: 0.4900\n",
      "Epoch 3 time: 213.54 seconds\n",
      "Epoch 4/15\n",
      "625/625 [==============================] - 214s 342ms/step - loss: 1.3720 - sparse_categorical_accuracy: 0.5353 - val_loss: 1.4409 - val_sparse_categorical_accuracy: 0.5280\n",
      "Epoch 4 time: 214.07 seconds\n",
      "Epoch 5/15\n",
      "625/625 [==============================] - 213s 341ms/step - loss: 1.2401 - sparse_categorical_accuracy: 0.5815 - val_loss: 1.4992 - val_sparse_categorical_accuracy: 0.5420\n",
      "Epoch 5 time: 213.33 seconds\n",
      "Epoch 6/15\n",
      "625/625 [==============================] - 213s 341ms/step - loss: 1.1000 - sparse_categorical_accuracy: 0.6300 - val_loss: 1.3167 - val_sparse_categorical_accuracy: 0.5540\n",
      "Epoch 6 time: 212.89 seconds\n",
      "Epoch 7/15\n",
      "625/625 [==============================] - 214s 342ms/step - loss: 0.9772 - sparse_categorical_accuracy: 0.6690 - val_loss: 1.0274 - val_sparse_categorical_accuracy: 0.6660\n",
      "Epoch 7 time: 213.54 seconds\n",
      "Epoch 8/15\n",
      "625/625 [==============================] - 213s 341ms/step - loss: 0.8527 - sparse_categorical_accuracy: 0.7199 - val_loss: 1.2456 - val_sparse_categorical_accuracy: 0.6280\n",
      "Epoch 8 time: 213.22 seconds\n",
      "Epoch 9/15\n",
      "625/625 [==============================] - 213s 341ms/step - loss: 0.6830 - sparse_categorical_accuracy: 0.7642 - val_loss: 1.1237 - val_sparse_categorical_accuracy: 0.6700\n",
      "Epoch 9 time: 213.45 seconds\n",
      "Epoch 10/15\n",
      "625/625 [==============================] - 213s 341ms/step - loss: 0.5548 - sparse_categorical_accuracy: 0.8133 - val_loss: 1.2344 - val_sparse_categorical_accuracy: 0.6580\n",
      "Epoch 10 time: 213.37 seconds\n",
      "Epoch 11/15\n",
      "625/625 [==============================] - 213s 341ms/step - loss: 0.4387 - sparse_categorical_accuracy: 0.8556 - val_loss: 1.3438 - val_sparse_categorical_accuracy: 0.6480\n",
      "Epoch 11 time: 213.35 seconds\n",
      "Epoch 12/15\n",
      "625/625 [==============================] - 213s 341ms/step - loss: 0.3446 - sparse_categorical_accuracy: 0.8805 - val_loss: 1.4325 - val_sparse_categorical_accuracy: 0.6620\n",
      "Epoch 12 time: 213.17 seconds\n",
      "Epoch 13/15\n",
      "625/625 [==============================] - 213s 341ms/step - loss: 0.2884 - sparse_categorical_accuracy: 0.9007 - val_loss: 1.4779 - val_sparse_categorical_accuracy: 0.6580\n",
      "Epoch 13 time: 213.03 seconds\n",
      "Epoch 14/15\n",
      "625/625 [==============================] - 214s 342ms/step - loss: 0.2632 - sparse_categorical_accuracy: 0.9081 - val_loss: 1.3920 - val_sparse_categorical_accuracy: 0.6840\n",
      "Epoch 14 time: 213.58 seconds\n",
      "Epoch 15/15\n",
      "625/625 [==============================] - 214s 342ms/step - loss: 0.2214 - sparse_categorical_accuracy: 0.9228 - val_loss: 1.4348 - val_sparse_categorical_accuracy: 0.6760\n",
      "Epoch 15 time: 213.57 seconds\n",
      "Total training time: 3205.98 seconds\n"
     ]
    }
   ],
   "source": [
    "# Train the ConvMixer model\n",
    "EPOCHS = 15\n",
    "time_callback = TimeHistory()\n",
    "\n",
    "history = model.fit(\n",
    "    train_ds,\n",
    "    validation_data=val_ds,\n",
    "    epochs=EPOCHS,\n",
    "    verbose=1,\n",
    "    callbacks=[time_callback]\n",
    ")"
   ]
  },
  {
   "cell_type": "code",
   "execution_count": 30,
   "id": "3531c077",
   "metadata": {},
   "outputs": [
    {
     "name": "stdout",
     "output_type": "stream",
     "text": [
      "63/63 [==============================] - 6s 89ms/step - loss: 1.4348 - sparse_categorical_accuracy: 0.6760\n",
      "Validation Loss: 1.4348\n",
      "Validation Accuracy: 67.6000%\n"
     ]
    }
   ],
   "source": [
    "# Evaluate on validation set\n",
    "val_loss, val_accuracy = model.evaluate(val_ds, verbose=1)\n",
    "print(f\"Validation Loss: {val_loss:.4f}\")\n",
    "print(f\"Validation Accuracy: {val_accuracy:.4%}\")"
   ]
  },
  {
   "cell_type": "code",
   "execution_count": 31,
   "id": "69338339",
   "metadata": {},
   "outputs": [
    {
     "data": {
      "image/png": "[encoded data removed]",
      "text/plain": [
       "<Figure size 864x288 with 2 Axes>"
      ]
     },
     "metadata": {
      "needs_background": "light"
     },
     "output_type": "display_data"
    }
   ],
   "source": [
    "import matplotlib.pyplot as plt\n",
    "\n",
    "# Plot training history\n",
    "plt.figure(figsize=(12, 4))\n",
    "\n",
    "# Accuracy\n",
    "plt.subplot(1, 2, 1)\n",
    "plt.plot(history.history['sparse_categorical_accuracy'], label='Train Accuracy')\n",
    "plt.plot(history.history['val_sparse_categorical_accuracy'], label='Validation Accuracy')\n",
    "plt.xlabel('Epochs')\n",
    "plt.ylabel('Accuracy')\n",
    "plt.legend()\n",
    "plt.title('Training and Validation Accuracy')\n",
    "\n",
    "# Loss\n",
    "plt.subplot(1, 2, 2)\n",
    "plt.plot(history.history['loss'], label='Train Loss')\n",
    "plt.plot(history.history['val_loss'], label='Validation Loss')\n",
    "plt.xlabel('Epochs')\n",
    "plt.ylabel('Loss')\n",
    "plt.legend()\n",
    "plt.title('Training and Validation Loss')\n",
    "\n",
    "plt.show()"
   ]
  },
  {
   "cell_type": "code",
   "execution_count": null,
   "id": "03d5ea3a",
   "metadata": {},
   "outputs": [],
   "source": []
  }
 ],
 "metadata": {
  "kernelspec": {
   "display_name": "Python 3",
   "language": "python",
   "name": "python3"
  },
  "language_info": {
   "codemirror_mode": {
    "name": "ipython",
    "version": 3
   },
   "file_extension": ".py",
   "mimetype": "text/x-python",
   "name": "python",
   "nbconvert_exporter": "python",
   "pygments_lexer": "ipython3",
   "version": "3.6.9"
  }
 },
 "nbformat": 4,
 "nbformat_minor": 5
}
